{
 "cells": [
  {
   "cell_type": "code",
   "execution_count": 1,
   "metadata": {},
   "outputs": [],
   "source": [
    "import spacy\n"
   ]
  },
  {
   "cell_type": "code",
   "execution_count": 2,
   "metadata": {},
   "outputs": [
    {
     "name": "stdout",
     "output_type": "stream",
     "text": [
      "spaCy is a free, open-source library for advanced Natural Language Processing (NLP) in Python. If you’re working with a lot of text, you’ll eventually want to know more about it. For example, what’s it about? What do the words mean in context? Who is doing what to whom? What companies and products are mentioned? Which texts are similar to each other? spaCy is designed specifically for production use and helps you build applications that process and “understand” large volumes of text. It can be used to build information extraction or natural language understanding systems, or to pre-process text for deep learning.\n"
     ]
    }
   ],
   "source": [
    "nlp=spacy.load(\"en_core_web_sm\")\n",
    "document=\"spaCy is a free, open-source library for advanced Natural Language Processing (NLP) in Python. If you’re working with a lot of text, you’ll eventually want to know more about it. For example, what’s it about? What do the words mean in context? Who is doing what to whom? What companies and products are mentioned? Which texts are similar to each other? spaCy is designed specifically for production use and helps you build applications that process and “understand” large volumes of text. It can be used to build information extraction or natural language understanding systems, or to pre-process text for deep learning.\"\n",
    "print(document)"
   ]
  },
  {
   "cell_type": "code",
   "execution_count": 3,
   "metadata": {},
   "outputs": [],
   "source": [
    "spacy_document = nlp(document)\n"
   ]
  },
  {
   "cell_type": "code",
   "execution_count": 4,
   "metadata": {},
   "outputs": [
    {
     "name": "stdout",
     "output_type": "stream",
     "text": [
      "125\n"
     ]
    }
   ],
   "source": [
    "words_in_text = len(spacy_document)\n",
    "print(words_in_text)\n",
    "#Print the word count of the (document) to the screen"
   ]
  },
  {
   "cell_type": "code",
   "execution_count": 5,
   "metadata": {},
   "outputs": [
    {
     "name": "stdout",
     "output_type": "stream",
     "text": [
      "spaCy\n"
     ]
    }
   ],
   "source": [
    "#Print words number 0,\n",
    "word_0=spacy_document[0]\n",
    "print(word_0)\n"
   ]
  },
  {
   "cell_type": "code",
   "execution_count": 6,
   "metadata": {},
   "outputs": [
    {
     "name": "stdout",
     "output_type": "stream",
     "text": [
      "open\n"
     ]
    }
   ],
   "source": [
    "#print words number 0,5 and 36\n",
    "word_5=spacy_document[5]\n",
    "print(word_5)"
   ]
  },
  {
   "cell_type": "code",
   "execution_count": 7,
   "metadata": {},
   "outputs": [
    {
     "name": "stdout",
     "output_type": "stream",
     "text": [
      "more\n"
     ]
    }
   ],
   "source": [
    "word_36=spacy_document[36]\n",
    "print(word_36)"
   ]
  },
  {
   "cell_type": "code",
   "execution_count": 8,
   "metadata": {},
   "outputs": [
    {
     "data": {
      "text/plain": [
       "'library for advanced Natural Language Processing (NLP) in Python. If you’re working with a lot of text, you’ll eventually want to know more about it.'"
      ]
     },
     "execution_count": 8,
     "metadata": {},
     "output_type": "execute_result"
    }
   ],
   "source": [
    "#Print words number 8 to 39 to the screen\n",
    "spacy_document[8:40].text"
   ]
  },
  {
   "cell_type": "code",
   "execution_count": 9,
   "metadata": {},
   "outputs": [
    {
     "name": "stdout",
     "output_type": "stream",
     "text": [
      "9\n"
     ]
    }
   ],
   "source": [
    "#4.Print the sentence count of the (document) to the screen\n",
    "sentences = list(spacy_document.sents)\n",
    "sentence_count= len(sentences)\n",
    "print(sentence_count)"
   ]
  },
  {
   "cell_type": "code",
   "execution_count": 10,
   "metadata": {},
   "outputs": [
    {
     "name": "stdout",
     "output_type": "stream",
     "text": [
      "What do the words mean in context?\n",
      "None\n"
     ]
    }
   ],
   "source": [
    "#print the sentence number3 to the screen \n",
    "sentence_3 =print (sentences[3])\n",
    "print (sentence_3)\n"
   ]
  },
  {
   "cell_type": "code",
   "execution_count": 11,
   "metadata": {},
   "outputs": [
    {
     "data": {
      "text/plain": [
       "[For example, what’s it about?,\n",
       " What do the words mean in context?,\n",
       " Who is doing what to whom?]"
      ]
     },
     "execution_count": 11,
     "metadata": {},
     "output_type": "execute_result"
    }
   ],
   "source": [
    "list(spacy_document.sents)[2:5]"
   ]
  },
  {
   "cell_type": "code",
   "execution_count": 12,
   "metadata": {},
   "outputs": [
    {
     "name": "stdout",
     "output_type": "stream",
     "text": [
      "For\n",
      "ADP\n",
      "adposition\n"
     ]
    }
   ],
   "source": [
    "#Print the \"POS\" - information of the word number 40,41, 43 and 46 to the screen\n",
    "word_40=spacy_document[40]\n",
    "print ( word_40 )\n",
    "# Please print word number 40\n",
    "word_40_pos = spacy_document[40].pos_\n",
    "print ( word_40_pos )\n",
    "# Pleas print the POS-tag of word number 10\n",
    "\n",
    "word_40_pos_explanation = spacy.explain(spacy_document[40].pos_)\n",
    "\n",
    "print ( word_40_pos_explanation) \n",
    "# voisitko lopuksi tulostaa ruudulle samaisen sanan POS-tagin selityksen"
   ]
  },
  {
   "cell_type": "code",
   "execution_count": 14,
   "metadata": {},
   "outputs": [
    {
     "name": "stdout",
     "output_type": "stream",
     "text": [
      "example\n",
      "NOUN\n",
      "noun\n"
     ]
    }
   ],
   "source": [
    "word_41=spacy_document[41]\n",
    "print(word_41)\n",
    "\n",
    "word_41_pos = spacy_document[41].pos_\n",
    "print(word_41_pos )\n",
    "\n",
    "word_41_pos_explanation =spacy.explain(spacy_document[41].pos_)\n",
    "print (word_41_pos_explanation)"
   ]
  },
  {
   "cell_type": "code",
   "execution_count": 15,
   "metadata": {},
   "outputs": [
    {
     "name": "stdout",
     "output_type": "stream",
     "text": [
      "what\n",
      "PRON\n",
      "pronoun\n"
     ]
    }
   ],
   "source": [
    "word_43=spacy_document[43]\n",
    "print(word_43)\n",
    "\n",
    "word_43_pos = spacy_document[43].pos_\n",
    "print(word_43_pos)\n",
    "\n",
    "word_43_pos_explanation=spacy.explain(spacy_document[43].pos_)\n",
    "print(word_43_pos_explanation)"
   ]
  },
  {
   "cell_type": "code",
   "execution_count": 17,
   "metadata": {},
   "outputs": [
    {
     "name": "stdout",
     "output_type": "stream",
     "text": [
      "about\n",
      "ADP\n",
      "adposition\n"
     ]
    }
   ],
   "source": [
    "word_46 = spacy_document[46]\n",
    "print(word_46)\n",
    "\n",
    "word_46_pos = spacy_document[46].pos_\n",
    "print(word_46_pos)\n",
    "\n",
    "word_46_pos_explanation=spacy.explain(spacy_document[46].pos_)\n",
    "print(word_46_pos_explanation)"
   ]
  },
  {
   "cell_type": "code",
   "execution_count": null,
   "metadata": {},
   "outputs": [],
   "source": []
  }
 ],
 "metadata": {
  "kernelspec": {
   "display_name": "Python 3",
   "language": "python",
   "name": "python3"
  },
  "language_info": {
   "codemirror_mode": {
    "name": "ipython",
    "version": 3
   },
   "file_extension": ".py",
   "mimetype": "text/x-python",
   "name": "python",
   "nbconvert_exporter": "python",
   "pygments_lexer": "ipython3",
   "version": "3.8.2"
  }
 },
 "nbformat": 4,
 "nbformat_minor": 4
}
