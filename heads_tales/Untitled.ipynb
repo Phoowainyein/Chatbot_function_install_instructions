{
 "cells": [
  {
   "cell_type": "code",
   "execution_count": 1,
   "metadata": {},
   "outputs": [
    {
     "name": "stdin",
     "output_type": "stream",
     "text": [
      "heads or tales heads\n",
      "heads or tales tales\n",
      "heads or tales heads\n",
      "heads or tales tales\n",
      "heads or tales heads\n"
     ]
    },
    {
     "name": "stdout",
     "output_type": "stream",
     "text": [
      "heads\n",
      "tales\n",
      "heads\n",
      "tales\n",
      "heads\n",
      "heads\n",
      "tales\n",
      "tales\n",
      "tales\n",
      "tales\n"
     ]
    }
   ],
   "source": [
    "ui1=input(\"heads or tales\")\n",
    "ui2=input(\"heads or tales\")\n",
    "ui3=input(\"heads or tales\")\n",
    "ui4=input(\"heads or tales\")\n",
    "ui5=input(\"heads or tales\")\n",
    "\n",
    "user_answers=[ui1,ui2,ui3,ui4,ui5]\n",
    "\n",
    "def function1():\n",
    "    for x in user_answers:\n",
    "        print(x)\n",
    "function1()\n",
    "\n",
    "def function2():\n",
    "    for x in [0,1,3]:\n",
    "        print(user_answers[x])\n",
    "function2()\n",
    "\n",
    "def function3():\n",
    "    for x in user_answers:\n",
    "        if x== \"tales\":\n",
    "            print(x)\n",
    "function3()"
   ]
  },
  {
   "cell_type": "code",
   "execution_count": null,
   "metadata": {},
   "outputs": [],
   "source": []
  }
 ],
 "metadata": {
  "kernelspec": {
   "display_name": "Python 3",
   "language": "python",
   "name": "python3"
  },
  "language_info": {
   "codemirror_mode": {
    "name": "ipython",
    "version": 3
   },
   "file_extension": ".py",
   "mimetype": "text/x-python",
   "name": "python",
   "nbconvert_exporter": "python",
   "pygments_lexer": "ipython3",
   "version": "3.8.2"
  }
 },
 "nbformat": 4,
 "nbformat_minor": 4
}
