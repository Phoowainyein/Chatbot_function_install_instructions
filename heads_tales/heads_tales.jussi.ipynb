{
 "cells": [
  {
   "cell_type": "code",
   "execution_count": 4,
   "metadata": {},
   "outputs": [
    {
     "ename": "SyntaxError",
     "evalue": "invalid syntax (<ipython-input-4-fb0ca8beb297>, line 20)",
     "output_type": "error",
     "traceback": [
      "\u001b[0;36m  File \u001b[0;32m\"<ipython-input-4-fb0ca8beb297>\"\u001b[0;36m, line \u001b[0;32m20\u001b[0m\n\u001b[0;31m    user_answers.insert(ask_for_index,ask_again)\u001b[0m\n\u001b[0m    ^\u001b[0m\n\u001b[0;31mSyntaxError\u001b[0m\u001b[0;31m:\u001b[0m invalid syntax\n"
     ]
    }
   ],
   "source": [
    "ui1=input(\"heads or tales\")\n",
    "ui2=input(\"heads or tales\")\n",
    "ui3=input(\"heads or tales\")\n",
    "ui4=input(\"heads or tales\")\n",
    "ui5=input(\"heads or tales\")\n",
    "\n",
    "user_answers=[ui1,ui2,ui3,ui4,ui5]\n",
    "\n",
    "def function1():\n",
    "    for heads_tales in user_answers:\n",
    "        print(user_answers)\n",
    "\n",
    "def function2():\n",
    "    print(len(user_answers))\n",
    "function2()\n",
    "\n",
    "def function3():\n",
    "    ask_again=input(\"heads or tales\")\n",
    "    ask_for_index=int(inpt(\"give me a number between 0 to 6?\")\n",
    "    user_answers.insert(ask_for_index,ask_again)\n",
    "    print(user_answers)\n"
   ]
  },
  {
   "cell_type": "code",
   "execution_count": null,
   "metadata": {},
   "outputs": [],
   "source": []
  }
 ],
 "metadata": {
  "kernelspec": {
   "display_name": "Python 3",
   "language": "python",
   "name": "python3"
  },
  "language_info": {
   "codemirror_mode": {
    "name": "ipython",
    "version": 3
   },
   "file_extension": ".py",
   "mimetype": "text/x-python",
   "name": "python",
   "nbconvert_exporter": "python",
   "pygments_lexer": "ipython3",
   "version": "3.8.2"
  }
 },
 "nbformat": 4,
 "nbformat_minor": 4
}
