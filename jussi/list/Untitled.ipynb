{
 "cells": [
  {
   "cell_type": "code",
   "execution_count": 2,
   "metadata": {},
   "outputs": [
    {
     "name": "stdout",
     "output_type": "stream",
     "text": [
      "1041\n"
     ]
    }
   ],
   "source": [
    "my_numbers = [34, 648, 120, 239]\n",
    "# Code explained :\n",
    "#I am creating a number list \n",
    "#Here are four values inside my list \n",
    "\n",
    "my_answer = 0\n",
    "# Code explained :\n",
    "#At this point 0 is allocating  to a variable called  my_numbers list\n",
    "\n",
    "for x in my_numbers :\n",
    "    my_answer += x\n",
    "# Code explained :\n",
    "#Iterating those numbers which is In envolope called my_numbers list\n",
    "# it will sum up all the values inside my list \n",
    "\n",
    "print(my_answer)\n",
    "# Code explained :\n",
    "#So here we are getting the total value of sum in my_numbers(variable)\n",
    "\n"
   ]
  },
  {
   "cell_type": "code",
   "execution_count": null,
   "metadata": {},
   "outputs": [],
   "source": []
  },
  {
   "cell_type": "code",
   "execution_count": null,
   "metadata": {},
   "outputs": [],
   "source": []
  }
 ],
 "metadata": {
  "kernelspec": {
   "display_name": "Python 3",
   "language": "python",
   "name": "python3"
  },
  "language_info": {
   "codemirror_mode": {
    "name": "ipython",
    "version": 3
   },
   "file_extension": ".py",
   "mimetype": "text/x-python",
   "name": "python",
   "nbconvert_exporter": "python",
   "pygments_lexer": "ipython3",
   "version": "3.8.2"
  }
 },
 "nbformat": 4,
 "nbformat_minor": 4
}
