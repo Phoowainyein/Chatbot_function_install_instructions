{
 "cells": [
  {
   "cell_type": "code",
   "execution_count": 1,
   "metadata": {},
   "outputs": [
    {
     "name": "stdin",
     "output_type": "stream",
     "text": [
      "How old are you?: 12\n"
     ]
    },
    {
     "name": "stdout",
     "output_type": "stream",
     "text": [
      "Unfortunately you are too young to use this software\n"
     ]
    },
    {
     "name": "stdin",
     "output_type": "stream",
     "text": [
      "Is your parent with you? yes\n"
     ]
    },
    {
     "name": "stdout",
     "output_type": "stream",
     "text": [
      "Welcome\n"
     ]
    }
   ],
   "source": [
    "age=int(input(\"How old are you?:\"))\n",
    "\n",
    "if age<18:\n",
    "    print(\"Unfortunately you are too young to use this software\")\n",
    "      \n",
    "    question=input(\"Is your parent with you?\")\n",
    "    if question==\"yes\":\n",
    "        print(\"Welcome\")\n",
    "    else:\n",
    "        print(\"Unfortunately you are too young to use this software\")\n",
    "\n",
    "if age>=18:\n",
    "    print(\"you are welcome\")\n"
   ]
  },
  {
   "cell_type": "code",
   "execution_count": null,
   "metadata": {},
   "outputs": [],
   "source": []
  }
 ],
 "metadata": {
  "kernelspec": {
   "display_name": "Python 3",
   "language": "python",
   "name": "python3"
  },
  "language_info": {
   "codemirror_mode": {
    "name": "ipython",
    "version": 3
   },
   "file_extension": ".py",
   "mimetype": "text/x-python",
   "name": "python",
   "nbconvert_exporter": "python",
   "pygments_lexer": "ipython3",
   "version": "3.8.2"
  }
 },
 "nbformat": 4,
 "nbformat_minor": 4
}
