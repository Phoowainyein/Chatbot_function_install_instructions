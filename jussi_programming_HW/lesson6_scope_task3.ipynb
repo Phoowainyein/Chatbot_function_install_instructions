{
 "cells": [
  {
   "cell_type": "code",
   "execution_count": 4,
   "metadata": {},
   "outputs": [
    {
     "name": "stdin",
     "output_type": "stream",
     "text": [
      "Give a number: 4\n"
     ]
    },
    {
     "name": "stdout",
     "output_type": "stream",
     "text": [
      "40\n",
      "10 x 4 = 40\n"
     ]
    }
   ],
   "source": [
    "#TASK 3 :\n",
    "#Create a global integer variables number1=10, multiplier=0 and result=0.\n",
    "#Create a function \"function1\" that asks a user a number (user_number). Multiply \"number1\" with \"user_number\" and save the result to \"result\". Save the user_number into the global variable \"multiplier\"\n",
    "#Print the number1, multiplier and result in a form (\"10 x 4 = 40\")\n",
    "\n",
    "number1=10\n",
    "multiplier=0\n",
    "result=0\n",
    "\n",
    "def function1():\n",
    "    global user_number\n",
    "    global result\n",
    "    user_number=int(input(\"Give a number:\"))\n",
    "    result=number1*user_number\n",
    "    print(result)\n",
    "function1()\n",
    "print(number1 ,\"x\" ,user_number ,\"=\" ,result)\n",
    "\n"
   ]
  },
  {
   "cell_type": "code",
   "execution_count": null,
   "metadata": {},
   "outputs": [],
   "source": []
  }
 ],
 "metadata": {
  "kernelspec": {
   "display_name": "Python 3",
   "language": "python",
   "name": "python3"
  },
  "language_info": {
   "codemirror_mode": {
    "name": "ipython",
    "version": 3
   },
   "file_extension": ".py",
   "mimetype": "text/x-python",
   "name": "python",
   "nbconvert_exporter": "python",
   "pygments_lexer": "ipython3",
   "version": "3.8.2"
  }
 },
 "nbformat": 4,
 "nbformat_minor": 4
}
