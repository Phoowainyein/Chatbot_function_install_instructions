{
 "cells": [
  {
   "cell_type": "code",
   "execution_count": 20,
   "metadata": {},
   "outputs": [
    {
     "name": "stdout",
     "output_type": "stream",
     "text": [
      "[ 1  2  3  4  5  6  7  8  9 10]\n",
      "[ 6  8 10]\n",
      "[2 5 8]\n",
      "[ 8  9 10]\n",
      "[ 8  9 10]\n",
      "[ 6  8 10]\n",
      "[3 5 7]\n",
      "[2 5 8]\n"
     ]
    }
   ],
   "source": [
    "\"\"\"1.1 use slicing to print out the elements holding numbers 3,4,5,6 in my_array1.\n",
    "1.2 use slicing to print out the elements holding numbers 1,2,3 in my_array1.\n",
    "1.3 use slicing to print out the elements holding numbers 8,9,10 in my_array1.\n",
    "1.4 use slicing with step-parameter to print out the elements holding numbers 1,3,5,7,9 in my_array1.\n",
    "1.5 use slicing with step-parameter to print out the elements holding numbers 1,3,5 in my_array1.\n",
    "1.6 use slicing with step-parameter to print out the elements holding numbers 6,8,10 in my_array1.\n",
    "1.7 use slicing with step-parameter to print out the elements holding numbers 2,5,8 in my_array1.\n",
    "1.8 use negative slicing to print out the elements holding numbers 8,9,10 in my_array1.\n",
    "1.9 use negative slicing with step-parameter to print out the elements holding numbers 6,8,10 in my_array1.\n",
    "1.10 use slicing to print out the elements holding numbers 3,5,7 in my_array1.\"\"\"\n",
    "\n",
    "import numpy as np\n",
    "my_array1 = np.array([1,2,3,4,5,6,7,8,9,10])\n",
    "print(my_array1)\n",
    "print(my_array1[5:10:2])\n",
    "print(my_array1[1:9:3])\n",
    "print(my_array1[-3:])\n",
    "print(my_array1[7:])\n",
    "print(my_array1[-5::2])\n",
    "print(my_array1[-8:-2:2])\n",
    "print(my_array1[1:8:3])\n"
   ]
  },
  {
   "cell_type": "code",
   "execution_count": 33,
   "metadata": {},
   "outputs": [
    {
     "name": "stdout",
     "output_type": "stream",
     "text": [
      "[[ 1  2  3  4]\n",
      " [ 5  6  7  8]\n",
      " [ 9 10 11 12]]\n",
      "[6 7 8]\n",
      "[ 9 11]\n",
      "[[ 1  3]\n",
      " [ 5  7]\n",
      " [ 9 11]]\n",
      "[[ 1  4]\n",
      " [ 5  8]\n",
      " [ 9 12]]\n",
      "[[ 2  3]\n",
      " [ 6  7]\n",
      " [10 11]]\n",
      "[[ 2  4]\n",
      " [ 6  8]\n",
      " [10 12]]\n",
      "[[ 1  3]\n",
      " [ 5  7]\n",
      " [ 9 11]]\n",
      "[[ 2  4]\n",
      " [ 6  8]\n",
      " [10 12]]\n"
     ]
    }
   ],
   "source": [
    "my_array2 = np.array( [[1,2,3,4],[5,6,7,8],[9,10,11,12]] )\n",
    "print(my_array2)\n",
    "\"\"\"2.1 use slicing to print out the elements holding numbers 6,7,8 in my_array2.\n",
    "2.2 use slicing with step to print out the elements holding numbers 9,11 in my_array2\n",
    "2.3 use slicing with step to print out the elements holding numbers 1,3,5,7,9,11 in my_array2\n",
    "2.4 use slicing with step to print out the elements holding numbers 1,4,5,8,9,12 in my_array2\n",
    "2.5 use negative slicing to print out the elements holding numbers 3,4,7,8,11,12 in my_array2\n",
    "2.6 use negative slicing to print out the elements holding numbers 2,3,6,7,10,11 in my_array2\n",
    "2.7 use negative slicing with step to print out the elements holding numbers 2,4,6,8,10,12 in my_array2\n",
    "2.8 use negative slicing with step to print out the elements holding numbers 1,3,5,7,9,11 in my_array2\"\"\"\n",
    "print(my_array2[1,1:])\n",
    "print(my_array2[2,0:4:2])\n",
    "print(my_array2[0:3,::2])\n",
    "print(my_array2[0:3,::3])\n",
    "print(my_array2[:,1:3])\n",
    "print(my_array2[:,1:4:2])\n",
    "print(my_array2[: ,0:4:2])\n",
    "print(my_array2[:,1:4:2])\n"
   ]
  },
  {
   "cell_type": "code",
   "execution_count": 32,
   "metadata": {},
   "outputs": [
    {
     "name": "stdout",
     "output_type": "stream",
     "text": [
      "[[[ 1  2  3  4]\n",
      "  [ 5  6  7  8]\n",
      "  [ 9 10 11 12]]\n",
      "\n",
      " [[13 14 15 16]\n",
      "  [17 18 19 20]\n",
      "  [21 22 23 24]]\n",
      "\n",
      " [[25 26 27 28]\n",
      "  [29 30 31 32]\n",
      "  [33 34 35 36]]]\n"
     ]
    },
    {
     "ename": "IndexError",
     "evalue": "too many indices for array: array is 3-dimensional, but 4 were indexed",
     "output_type": "error",
     "traceback": [
      "\u001b[0;31m---------------------------------------------------------------------------\u001b[0m",
      "\u001b[0;31mIndexError\u001b[0m                                Traceback (most recent call last)",
      "\u001b[0;32m<ipython-input-32-24a8ce92d880>\u001b[0m in \u001b[0;36m<module>\u001b[0;34m\u001b[0m\n\u001b[1;32m      6\u001b[0m \u001b[0mprint\u001b[0m\u001b[0;34m(\u001b[0m\u001b[0mmy_array3\u001b[0m\u001b[0;34m)\u001b[0m\u001b[0;34m\u001b[0m\u001b[0;34m\u001b[0m\u001b[0m\n\u001b[1;32m      7\u001b[0m \u001b[0;34m\u001b[0m\u001b[0m\n\u001b[0;32m----> 8\u001b[0;31m \u001b[0mprint\u001b[0m\u001b[0;34m(\u001b[0m\u001b[0mmy_array3\u001b[0m\u001b[0;34m[\u001b[0m\u001b[0;36m2\u001b[0m\u001b[0;34m,\u001b[0m\u001b[0;36m2\u001b[0m\u001b[0;34m,\u001b[0m\u001b[0;36m2\u001b[0m\u001b[0;34m,\u001b[0m\u001b[0;36m0\u001b[0m\u001b[0;34m:\u001b[0m\u001b[0;36m2\u001b[0m\u001b[0;34m]\u001b[0m\u001b[0;34m)\u001b[0m\u001b[0;34m\u001b[0m\u001b[0;34m\u001b[0m\u001b[0m\n\u001b[0m\u001b[1;32m      9\u001b[0m \u001b[0mprint\u001b[0m\u001b[0;34m(\u001b[0m\u001b[0mmy_array3\u001b[0m\u001b[0;34m)\u001b[0m\u001b[0;34m\u001b[0m\u001b[0;34m\u001b[0m\u001b[0m\n\u001b[1;32m     10\u001b[0m \u001b[0mprint\u001b[0m\u001b[0;34m(\u001b[0m\u001b[0mmy_array3\u001b[0m\u001b[0;34m)\u001b[0m\u001b[0;34m\u001b[0m\u001b[0;34m\u001b[0m\u001b[0m\n",
      "\u001b[0;31mIndexError\u001b[0m: too many indices for array: array is 3-dimensional, but 4 were indexed"
     ]
    }
   ],
   "source": [
    "sheet1 = np.array( [[1,2,3,4],[5,6,7,8],[9,10,11,12]] )\n",
    "sheet2 = np.array( [[13,14,15,16],[17,18,19,20],[21,22,23,24]] )\n",
    "sheet3 = np.array( [[25,26,27,28],[29,30,31,32],[33,34,35,36]] )\n",
    "\n",
    "my_array3=np.array([sheet1,sheet2,sheet3])\n",
    "print(my_array3)\n",
    "\n",
    "print(my_array3[2,2,2,0:2])\n",
    "print(my_array3)\n",
    "print(my_array3)\n",
    "print(my_array3)\n",
    "print(my_array3)"
   ]
  },
  {
   "cell_type": "code",
   "execution_count": null,
   "metadata": {},
   "outputs": [],
   "source": [
    "\"\"\"3.1 use slicing to print out the elements holding numbers 33,34,35 in my_array3.\n",
    "3.2 use slicing with step to print out the elements holding numbers 30,32 in my_array3\n",
    "3.3 use slicing with step to print out the elements holding numbers 25,27,29,31,33,35 in my_array3\n",
    "3.4 use slicing with step to print out the elements holding numbers 13,16,17,20,21,24 in my_array3\n",
    "3.5 use negative slicing to print out the elements holding numbers 15,16,19,20,23,24,27,28,31,32,35,36 in my_array3\n",
    "3.6 use negative slicing with step to print out the elements holding numbers 14,16,18,20,22,24,26,28,30,32,34,36 in my_array\"\"\"\"\"\"\n",
    " "
   ]
  }
 ],
 "metadata": {
  "kernelspec": {
   "display_name": "Python 3",
   "language": "python",
   "name": "python3"
  },
  "language_info": {
   "codemirror_mode": {
    "name": "ipython",
    "version": 3
   },
   "file_extension": ".py",
   "mimetype": "text/x-python",
   "name": "python",
   "nbconvert_exporter": "python",
   "pygments_lexer": "ipython3",
   "version": "3.8.2"
  }
 },
 "nbformat": 4,
 "nbformat_minor": 4
}
