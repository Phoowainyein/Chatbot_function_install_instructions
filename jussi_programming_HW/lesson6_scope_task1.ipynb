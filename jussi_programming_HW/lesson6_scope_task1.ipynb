{
 "cells": [
  {
   "cell_type": "code",
   "execution_count": 2,
   "metadata": {},
   "outputs": [
    {
     "name": "stdin",
     "output_type": "stream",
     "text": [
      "What is your name? phoo\n"
     ]
    },
    {
     "name": "stdout",
     "output_type": "stream",
     "text": [
      "['phoo']\n"
     ]
    }
   ],
   "source": [
    "#TASK 1 :\n",
    "#create a Python List \"name_list\" as a global variable\n",
    "#create a function \"function1\" and ask a user her name. Save the name into the \"name_list\"\n",
    "#print the \"name_list\"\"\"\"\n",
    "\n",
    "name_list=[]\n",
    "def function1():\n",
    "    user_name=input(\"What is your name?\")\n",
    "    name_list.append(user_name)\n",
    "    print(name_list)\n",
    "function1()\n",
    "    \n",
    "    "
   ]
  },
  {
   "cell_type": "code",
   "execution_count": null,
   "metadata": {},
   "outputs": [],
   "source": []
  }
 ],
 "metadata": {
  "kernelspec": {
   "display_name": "Python 3",
   "language": "python",
   "name": "python3"
  },
  "language_info": {
   "codemirror_mode": {
    "name": "ipython",
    "version": 3
   },
   "file_extension": ".py",
   "mimetype": "text/x-python",
   "name": "python",
   "nbconvert_exporter": "python",
   "pygments_lexer": "ipython3",
   "version": "3.8.2"
  }
 },
 "nbformat": 4,
 "nbformat_minor": 4
}
