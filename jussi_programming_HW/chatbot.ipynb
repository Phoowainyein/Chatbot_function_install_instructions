{
 "cells": [
  {
   "cell_type": "code",
   "execution_count": 6,
   "metadata": {},
   "outputs": [
    {
     "name": "stdout",
     "output_type": "stream",
     "text": [
      "I am SAMK visual assistant \n",
      "How may I help you?\n"
     ]
    },
    {
     "name": "stdin",
     "output_type": "stream",
     "text": [
      " a.To know the application process,Please Press 1 \n",
      " b.To create SAMK user ID,Press 2 \n",
      " c.For other questions,Press 3 3\n"
     ]
    },
    {
     "name": "stdout",
     "output_type": "stream",
     "text": [
      "3\n",
      "What do you want to know?\n"
     ]
    },
    {
     "name": "stdin",
     "output_type": "stream",
     "text": [
      "Ask me anything and I will try answering that jd\n"
     ]
    },
    {
     "name": "stdout",
     "output_type": "stream",
     "text": [
      "jd\n",
      "Sorry,I can't help you with that but thanks for having me\n"
     ]
    }
   ],
   "source": [
    " print(\"I am SAMK visual assistant \")\n",
    "print(\"How may I help you?\")\n",
    "#asking a user to choose a question\n",
    "\n",
    "answer=int(input(\" a.To know the application process,Please Press 1 \\n b.To create SAMK user ID,Press 2 \\n c.For other questions,Press 3\"))\n",
    "print(int(answer))\n",
    "if answer == int(1):\n",
    "    print(\"The application period will be valid from September 1\")\n",
    "    print(\"for more information please visit at www.samk.fi\")\n",
    "if answer==int(2):\n",
    "    print(\"you will need your bank code to create a strong user ID \")\n",
    "    print(\"for more information please visit at https://kanava.samk.fi/iam/im/samk/\")\n",
    "else:\n",
    "    print(\"What do you want to know?\")\n",
    "    \n",
    "\n",
    "positive_list=[\"No,I don't have any questions\",\"Nothing\",\"Thanks\",\"I have no question\",\"Thank you\"]\n",
    "negative_list=[\"Where can I get a transfer credits?\",\"How do I contact the Admmission office?\"]\n",
    " \n",
    "the_answer=input(\"Ask me anything and I will try answering that\")\n",
    "print(the_answer)\n",
    "if the_answer in positive_list:\n",
    "    print(\"Thanks for having me ,It's a pleasure talking with you\")\n",
    "if the_answer in negative_list:\n",
    "    print(\"You can contact the student office at\")\n",
    "if the_answer not in positive_list not in negative_list:\n",
    "     print(\"Sorry,I can't help you with that but thanks for having me\")"
   ]
  },
  {
   "cell_type": "code",
   "execution_count": null,
   "metadata": {},
   "outputs": [],
   "source": []
  }
 ],
 "metadata": {
  "kernelspec": {
   "display_name": "Python 3",
   "language": "python",
   "name": "python3"
  },
  "language_info": {
   "codemirror_mode": {
    "name": "ipython",
    "version": 3
   },
   "file_extension": ".py",
   "mimetype": "text/x-python",
   "name": "python",
   "nbconvert_exporter": "python",
   "pygments_lexer": "ipython3",
   "version": "3.8.2"
  }
 },
 "nbformat": 4,
 "nbformat_minor": 4
}
