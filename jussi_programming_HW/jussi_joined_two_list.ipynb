{
 "cells": [
  {
   "cell_type": "code",
   "execution_count": 21,
   "metadata": {},
   "outputs": [
    {
     "name": "stdout",
     "output_type": "stream",
     "text": [
      "Here is joined list : ['sari', 'miia', 'anna', 'tiia', 'kaija', 'kati', 'iina', 'laura', 'varpu', 'merja', 'eeva', 'tiina', 'eki', 'kalle, niilo', 'matias', 'juho', 'eero', 'tuomas', 'tero', 'hannu', 'sakari', 'anssi', 'ville']\n",
      "Here is random name : ville\n"
     ]
    }
   ],
   "source": [
    "#! usr/bin/python3\n",
    "import random\n",
    "female_names = [\"sari\", \"miia\", \"anna\", \"tiia\",\"kaija\",\"kati\",\"iina\",\"laura\",\"varpu\",\"merja\",\"eeva\",\"tiina\"]\n",
    "male_names = [\"eki\", \"kalle, niilo\",\"matias\",\"juho\",\"eero\",\"tuomas\",\"tero\",\"hannu\",\"sakari\",\"anssi\",\"ville\"]\n",
    "\n",
    "\n",
    "def to_join_two_list(female_names,male_names):\n",
    "    joined_list=female_names+male_names\n",
    "    return joined_list\n",
    "    #pick_random_name()\n",
    "def pick_random_name():\n",
    "        #from random import choice\n",
    "        list=female_names+male_names\n",
    "        random_name=random.choice(list)\n",
    "        return random_name\n",
    "\n",
    "\n",
    "print(\"Here is joined list :\" , to_join_two_list(female_names,male_names))\n",
    "print(\"Here is random name :\", pick_random_name())"
   ]
  },
  {
   "cell_type": "code",
   "execution_count": null,
   "metadata": {},
   "outputs": [],
   "source": []
  }
 ],
 "metadata": {
  "kernelspec": {
   "display_name": "Python 3",
   "language": "python",
   "name": "python3"
  },
  "language_info": {
   "codemirror_mode": {
    "name": "ipython",
    "version": 3
   },
   "file_extension": ".py",
   "mimetype": "text/x-python",
   "name": "python",
   "nbconvert_exporter": "python",
   "pygments_lexer": "ipython3",
   "version": "3.8.2"
  }
 },
 "nbformat": 4,
 "nbformat_minor": 4
}
