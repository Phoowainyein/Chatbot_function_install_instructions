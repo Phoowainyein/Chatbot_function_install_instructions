{
 "cells": [
  {
   "cell_type": "code",
   "execution_count": 5,
   "metadata": {},
   "outputs": [
    {
     "name": "stdin",
     "output_type": "stream",
     "text": [
      "How old are you? 8\n"
     ]
    },
    {
     "name": "stdout",
     "output_type": "stream",
     "text": [
      "8\n"
     ]
    },
    {
     "name": "stdin",
     "output_type": "stream",
     "text": [
      "What's your age? 5\n"
     ]
    },
    {
     "name": "stdout",
     "output_type": "stream",
     "text": [
      "5\n"
     ]
    }
   ],
   "source": [
    "#TASK 2 :\n",
    "#Create a global integer variable user_age\n",
    "#create a function \"function1\" and ask a user her age. Assign (save) the age to the global user_age variable.\n",
    "#Print user_age\n",
    "\n",
    "#This is how I do\n",
    "user_age=\"\"\n",
    "def function1():\n",
    "    ask_age=input(\"How old are you?\")\n",
    "    user_age=ask_age\n",
    "    print(user_age)\n",
    "function1()\n",
    "\n",
    "\n",
    "#This is how Jussi does\n",
    "userage=0\n",
    "def function():\n",
    "    global age\n",
    "    age=int(input(\"What's your age?\"))\n",
    "    userage=age\n",
    "function()\n",
    "print(age)"
   ]
  },
  {
   "cell_type": "code",
   "execution_count": null,
   "metadata": {},
   "outputs": [],
   "source": []
  }
 ],
 "metadata": {
  "kernelspec": {
   "display_name": "Python 3",
   "language": "python",
   "name": "python3"
  },
  "language_info": {
   "codemirror_mode": {
    "name": "ipython",
    "version": 3
   },
   "file_extension": ".py",
   "mimetype": "text/x-python",
   "name": "python",
   "nbconvert_exporter": "python",
   "pygments_lexer": "ipython3",
   "version": "3.8.2"
  }
 },
 "nbformat": 4,
 "nbformat_minor": 4
}
