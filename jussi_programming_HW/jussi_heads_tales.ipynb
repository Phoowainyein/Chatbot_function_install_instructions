{
 "cells": [
  {
   "cell_type": "code",
   "execution_count": null,
   "metadata": {},
   "outputs": [
    {
     "name": "stdin",
     "output_type": "stream",
     "text": [
      "heads or tales heads\n",
      "heads or tales tales\n",
      "heads or tales heads\n",
      "heads or tales tales\n",
      "heads or tales heads\n"
     ]
    },
    {
     "name": "stdout",
     "output_type": "stream",
     "text": [
      "heads\n",
      "tales\n",
      "heads\n",
      "tales\n",
      "heads\n",
      "5\n"
     ]
    }
   ],
   "source": [
    "ui1=input(\"heads or tales\")\n",
    "ui2=input(\"heads or tales\")\n",
    "ui3=input(\"heads or tales\")\n",
    "ui4=input(\"heads or tales\")\n",
    "ui5=input(\"heads or tales\")\n",
    "\n",
    "user_answers=[ui1,ui2,ui3,ui4,ui5]\n",
    "\n",
    "def function1():\n",
    "    for x in user_answers:\n",
    "        print(x)\n",
    "function1()\n",
    "\n",
    "\n",
    "def function4():\n",
    "    item_count=len(user_answers)\n",
    "    print(item_count)\n",
    "function4()\n",
    "\n",
    "def another_function():\n",
    "    ui= input(\"heads or tales\")\n",
    "    num=int(input(\"Type a num to add in user answer list\"))\n",
    "    for x in user_answers:\n",
    "        user_answers.insert(num)\n",
    "        print(x)\n",
    "    \n",
    "    \n",
    "another_function()"
   ]
  },
  {
   "cell_type": "code",
   "execution_count": null,
   "metadata": {},
   "outputs": [],
   "source": []
  }
 ],
 "metadata": {
  "kernelspec": {
   "display_name": "Python 3",
   "language": "python",
   "name": "python3"
  },
  "language_info": {
   "codemirror_mode": {
    "name": "ipython",
    "version": 3
   },
   "file_extension": ".py",
   "mimetype": "text/x-python",
   "name": "python",
   "nbconvert_exporter": "python",
   "pygments_lexer": "ipython3",
   "version": "3.8.2"
  }
 },
 "nbformat": 4,
 "nbformat_minor": 4
}
