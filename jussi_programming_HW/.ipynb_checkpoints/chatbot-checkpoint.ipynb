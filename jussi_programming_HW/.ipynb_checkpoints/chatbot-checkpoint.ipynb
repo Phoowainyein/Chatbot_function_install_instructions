{
 "cells": [
  {
   "cell_type": "code",
   "execution_count": 1,
   "metadata": {},
   "outputs": [
    {
     "name": "stdout",
     "output_type": "stream",
     "text": [
      "I am SAMK visual assistant \n",
      "How may I help you?\n"
     ]
    },
    {
     "name": "stdin",
     "output_type": "stream",
     "text": [
      " a.To know the application process,Please Press 1 \n",
      " b.To create SAMK user ID,Press 2 \n",
      " c.For other questions,Press 3 2\n"
     ]
    },
    {
     "name": "stdout",
     "output_type": "stream",
     "text": [
      "2\n",
      "you will need your bank code to create a strong user ID \n",
      "for more information please visit at https://kanava.samk.fi/iam/im/samk/\n"
     ]
    },
    {
     "name": "stdin",
     "output_type": "stream",
     "text": [
      "Ask me anything and I will try answering that no \n"
     ]
    },
    {
     "name": "stdout",
     "output_type": "stream",
     "text": [
      "no \n"
     ]
    },
    {
     "ename": "NameError",
     "evalue": "name 'positive_listand' is not defined",
     "output_type": "error",
     "traceback": [
      "\u001b[0;31m---------------------------------------------------------------------------\u001b[0m",
      "\u001b[0;31mNameError\u001b[0m                                 Traceback (most recent call last)",
      "\u001b[0;32m<ipython-input-1-1095e6bc47f0>\u001b[0m in \u001b[0;36m<module>\u001b[0;34m\u001b[0m\n\u001b[1;32m     24\u001b[0m \u001b[0;32mif\u001b[0m \u001b[0mthe_answer\u001b[0m \u001b[0;32min\u001b[0m \u001b[0mnegative_list\u001b[0m\u001b[0;34m:\u001b[0m\u001b[0;34m\u001b[0m\u001b[0;34m\u001b[0m\u001b[0m\n\u001b[1;32m     25\u001b[0m    \u001b[0mprint\u001b[0m\u001b[0;34m(\u001b[0m\u001b[0;34m\"You can contact the student office at\"\u001b[0m\u001b[0;34m)\u001b[0m\u001b[0;34m\u001b[0m\u001b[0;34m\u001b[0m\u001b[0m\n\u001b[0;32m---> 26\u001b[0;31m \u001b[0;32mif\u001b[0m \u001b[0mthe_answer\u001b[0m \u001b[0;32mnot\u001b[0m \u001b[0;32min\u001b[0m \u001b[0mpositive_listand\u001b[0m \u001b[0;32mnot\u001b[0m \u001b[0;32min\u001b[0m \u001b[0mnegative_list\u001b[0m\u001b[0;34m:\u001b[0m\u001b[0;34m\u001b[0m\u001b[0;34m\u001b[0m\u001b[0m\n\u001b[0m\u001b[1;32m     27\u001b[0m     \u001b[0mprint\u001b[0m\u001b[0;34m(\u001b[0m\u001b[0;34m\"Sorry,I can't help you with that but thanks for having me\"\u001b[0m\u001b[0;34m)\u001b[0m\u001b[0;34m\u001b[0m\u001b[0;34m\u001b[0m\u001b[0m\n",
      "\u001b[0;31mNameError\u001b[0m: name 'positive_listand' is not defined"
     ]
    }
   ],
   "source": [
    " print(\"I am SAMK visual assistant \")\n",
    "print(\"How may I help you?\")\n",
    "#asking a user to choose a question\n",
    "\n",
    "answer=int(input(\" a.To know the application process,Please Press 1 \\n b.To create SAMK user ID,Press 2 \\n c.For other questions,Press 3\"))\n",
    "print(int(answer))\n",
    "if answer == int(1):\n",
    "    print(\"The application period will be valid from September 1\")\n",
    "    print(\"for more information please visit at www.samk.fi\")\n",
    "if answer==int(2):\n",
    "    print(\"you will need your bank code to create a strong user ID \")\n",
    "    print(\"for more information please visit at https://kanava.samk.fi/iam/im/samk/\")\n",
    "else:\n",
    "    print(\"What do you want to know?\")\n",
    "    \n",
    "\n",
    "positive_list=[\"No,I don't have any questions\",\"Nothing\",\"Thanks\",\"I have no question\",\"Thank you\"]\n",
    "negative_list=[\"Where can I get a transfer credits?\",\"How do I contact the Admmission office?\"]\n",
    " \n",
    "the_answer=input(\"Ask me anything and I will try answering that\")\n",
    "print(the_answer)\n",
    "if the_answer in positive_list:\n",
    "    print(\"Thanks for having me ,It's a pleasure talking with you\")\n",
    "if the_answer in negative_list:\n",
    "    print(\"You can contact the student office at\")\n",
    "if the_answer not in positive_listand not in negative_list:\n",
    "     print(\"Sorry,I can't help you with that but thanks for having me\")"
   ]
  },
  {
   "cell_type": "code",
   "execution_count": null,
   "metadata": {},
   "outputs": [],
   "source": []
  }
 ],
 "metadata": {
  "kernelspec": {
   "display_name": "Python 3",
   "language": "python",
   "name": "python3"
  },
  "language_info": {
   "codemirror_mode": {
    "name": "ipython",
    "version": 3
   },
   "file_extension": ".py",
   "mimetype": "text/x-python",
   "name": "python",
   "nbconvert_exporter": "python",
   "pygments_lexer": "ipython3",
   "version": "3.8.2"
  }
 },
 "nbformat": 4,
 "nbformat_minor": 4
}
