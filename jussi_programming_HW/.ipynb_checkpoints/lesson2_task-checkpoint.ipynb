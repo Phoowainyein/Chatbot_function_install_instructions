{
 "cells": [
  {
   "cell_type": "code",
   "execution_count": null,
   "metadata": {},
   "outputs": [],
   "source": [
    "R1=\"football\"\n",
    "R2=\"voleyball\"\n",
    "R3=\"basketball\"\n",
    "R4=\"baseball\"\n",
    "R5=\"Tennis\"\n",
    "\n",
    "R6=\"running\"\n",
    "R7=\"Swimming\"\n",
    "R8=\"cycling\"\n",
    "\n",
    "reply1_list=[R1,R2,R3,R4,R5,]\n",
    "reply2_list=[R6,R7,R8]\n",
    "#I am asking to a user to know his or her favorite sport\n",
    "reply=input(\"What's your favorite sport?\")\n",
    "print(reply)\n",
    "\n",
    "if reply in reply1_list:\n",
    "    print(\"Great, I like all ball games\")\n",
    "if reply in reply2_list:\n",
    "    print(\"Great, I like all solo sports\")\n",
    "if reply not in reply1_list and reply  not in reply2_list:\n",
    "    print(\"Yes, that is a great sport\")"
   ]
  },
  {
   "cell_type": "code",
   "execution_count": null,
   "metadata": {},
   "outputs": [],
   "source": []
  }
 ],
 "metadata": {
  "kernelspec": {
   "display_name": "Python 3",
   "language": "python",
   "name": "python3"
  },
  "language_info": {
   "codemirror_mode": {
    "name": "ipython",
    "version": 3
   },
   "file_extension": ".py",
   "mimetype": "text/x-python",
   "name": "python",
   "nbconvert_exporter": "python",
   "pygments_lexer": "ipython3",
   "version": "3.8.2"
  }
 },
 "nbformat": 4,
 "nbformat_minor": 4
}
