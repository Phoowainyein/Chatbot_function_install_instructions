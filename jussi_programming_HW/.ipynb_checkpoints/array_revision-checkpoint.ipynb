{
 "cells": [
  {
   "cell_type": "code",
   "execution_count": 6,
   "metadata": {},
   "outputs": [
    {
     "name": "stdout",
     "output_type": "stream",
     "text": [
      "[1 2 3 4]\n",
      "dimesion= 1\n",
      "3\n",
      "1\n"
     ]
    }
   ],
   "source": [
    "import numpy as np\n",
    "my_array1 = np.array([1,2,3,4])\n",
    "print(my_array1)\n",
    "print(\"dimesion=\",my_array1.ndim)\n",
    "\n",
    "# 1.1 use indexing to print out the element holding number 3 in my_array1.\n",
    "# 1.2 use indexing to print out the element holding number 1 in my_array1.\n",
    "print(my_array1[2])\n",
    "print(my_array1[0])"
   ]
  },
  {
   "cell_type": "code",
   "execution_count": 7,
   "metadata": {},
   "outputs": [
    {
     "name": "stdout",
     "output_type": "stream",
     "text": [
      "[[ 1  2  3  4]\n",
      " [ 5  6  7  8]\n",
      " [ 9 10 11 12]]\n",
      "dimesion 2\n",
      "3\n",
      "1\n",
      "11\n",
      "5\n"
     ]
    }
   ],
   "source": [
    "import numpy as np\n",
    "\n",
    "my_array2 = np.array( [[1,2,3,4],[5,6,7,8],[9,10,11,12]] )\n",
    "print(my_array2)\n",
    "print(\"dimesion\",my_array2.ndim)\n",
    "# 2.1 use indexing to print out the element holding number 3 in my_array2.\n",
    "# 2.2 use indexing to print out the element holding number 1 in my_array2.\n",
    "# 2.3 use indexing to print out the element holding number 11 in my_array2.\n",
    "# 2.3 use indexing to print out the element holding number 5 in my_array2.\n",
    "print(my_array2[0,2])\n",
    "print(my_array2[0,0])\n",
    "print(my_array2[2,2])\n",
    "print(my_array2[1,0])"
   ]
  },
  {
   "cell_type": "code",
   "execution_count": 21,
   "metadata": {},
   "outputs": [
    {
     "name": "stdout",
     "output_type": "stream",
     "text": [
      "[[[ 1  2  3  4]\n",
      "  [ 5  6  7  8]\n",
      "  [ 9 10 11 12]]\n",
      "\n",
      " [[13 14 15 16]\n",
      "  [17 18 19 20]\n",
      "  [21 22 23 24]]\n",
      "\n",
      " [[25 26 27 28]\n",
      "  [29 30 31 32]\n",
      "  [33 34 35 36]]]\n",
      "3\n",
      "3\n",
      "1\n",
      "24\n",
      "35\n",
      "18\n",
      "12\n"
     ]
    }
   ],
   "source": [
    "import numpy as np\n",
    "sheet1 = np.array( [[1,2,3,4],[5,6,7,8],[9,10,11,12]] )\n",
    "sheet2 = np.array( [[13,14,15,16],[17,18,19,20],[21,22,23,24]] )\n",
    "sheet3 = np.array( [[25,26,27,28],[29,30,31,32],[33,34,35,36]] )\n",
    "\n",
    "my_array3=np.array([sheet1,sheet2,sheet3])\n",
    "print(my_array3)\n",
    "print(my_array3.ndim)\n",
    "# 3.1 use indexing to print out the element holding number 3 in my_array3.\n",
    "# 3.2 use indexing to print out the element holding number 1 in my_array3.\n",
    "# 3.3 use indexing to print out the element holding number 24 in my_array3.\n",
    "# 3.4 use indexing to print out the element holding number 35 in my_array3.\n",
    "# 3.5 use indexing to print out the element holding number 24 in my_array3.\n",
    "# 3.6 use indexing to print out the element holding number 18 in my_array3.\n",
    "# 3.7 use indexing to print out the element holding number 12 in my_array3\n",
    "print(my_array3[0,0,2])\n",
    "print(my_array3[0,0,0])\n",
    "print(my_array3[1,2,3])\n",
    "print(my_array3[2,2,2])\n",
    "print(my_array3[1,1,1])\n",
    "print(my_array3[0,2,3])"
   ]
  },
  {
   "cell_type": "code",
   "execution_count": 3,
   "metadata": {},
   "outputs": [
    {
     "name": "stdout",
     "output_type": "stream",
     "text": [
      "[[[[  1   2   3   4]\n",
      "   [  5   6   7   8]\n",
      "   [  9  10  11  12]]\n",
      "\n",
      "  [[ 13  14  15  16]\n",
      "   [ 17  18  19  20]\n",
      "   [ 21  22  23  24]]\n",
      "\n",
      "  [[ 25  26  27  28]\n",
      "   [ 29  30  31  32]\n",
      "   [ 33  34  35  36]]]\n",
      "\n",
      "\n",
      " [[[ 37  38  39  40]\n",
      "   [ 41  42  43  44]\n",
      "   [ 45  46  47  48]]\n",
      "\n",
      "  [[ 49  50  51  52]\n",
      "   [ 53  54  55  56]\n",
      "   [ 57  58  59  60]]\n",
      "\n",
      "  [[ 61  62  63  64]\n",
      "   [ 65  66  67  68]\n",
      "   [ 69  70  71  72]]]\n",
      "\n",
      "\n",
      " [[[ 73  74  75  76]\n",
      "   [ 77  78  79  80]\n",
      "   [ 81  82  83  84]]\n",
      "\n",
      "  [[ 85  86  87  88]\n",
      "   [ 89  90  91  92]\n",
      "   [ 93  94  95  96]]\n",
      "\n",
      "  [[ 97  98  99 100]\n",
      "   [101 102 103 104]\n",
      "   [105 106 107 108]]]]\n",
      "3\n",
      "1\n",
      "13\n",
      "73\n",
      "56\n",
      "85\n",
      "108\n"
     ]
    }
   ],
   "source": [
    "## import numpy as np\n",
    "sheet1 = np.array( [[1,2,3,4],[5,6,7,8],[9,10,11,12]] )\n",
    "sheet2 = np.array( [[13,14,15,16],[17,18,19,20],[21,22,23,24]] )\n",
    "sheet3 = np.array( [[25,26,27,28],[29,30,31,32],[33,34,35,36]] )\n",
    "workbook1=np.array([sheet1,sheet2,sheet3])\n",
    "\n",
    "sheet4 = np.array( [[37,38,39,40],[41,42,43,44],[45,46,47,48]] )\n",
    "sheet5 = np.array( [[49,50,51,52],[53,54,55,56],[57,58,59,60]] )\n",
    "sheet6 = np.array( [[61,62,63,64],[65,66,67,68],[69,70,71,72]] )\n",
    "workbook2=np.array([sheet4,sheet5,sheet6])\n",
    "\n",
    "sheet7 = np.array( [[73,74,75,76],[77,78,79,80],[81,82,83,84]] )\n",
    "sheet8 = np.array( [[85,86,87,88],[89,90,91,92],[93,94,95,96]] )\n",
    "sheet9 = np.array( [[97,98,99,100],[101,102,103,104],[105,106,107,108]] )\n",
    "workbook3=np.array([sheet7,sheet8,sheet9])\n",
    "\n",
    "my_array4=np.array([workbook1,workbook2,workbook3])\n",
    "\n",
    "print(my_array4)\n",
    "# 4.1 use indexing to print out the element holding number 3 in my_array4.\n",
    "# 4.2 use indexing to print out the element holding number 1 in my_array4.\n",
    "# 4.3 use indexing to print out the element holding number 13 in my_array4.\n",
    "# 4.4 use indexing to print out the element holding number 73 in my_array4.\n",
    "# 4.5 use indexing to print out the element holding number 56 in my_array4.\n",
    "# 4.6 use indexing to print out the element holding number 85 in my_array4.\n",
    "# 4.7 use indexing to print out the element holding number 108 in my_array4.\n",
    "\n",
    "print(my_array4[0,0,0,2])\n",
    "print(my_array4[0,0,0,0])\n",
    "print(my_array4[0,1,0,0])\n",
    "print(my_array4[2,0,0,0])\n",
    "print(my_array4[1,1,1,3])\n",
    "print(my_array4[2,1,0,0])\n",
    "print(my_array4[2,2,2,3])\n",
    "\n"
   ]
  },
  {
   "cell_type": "code",
   "execution_count": 6,
   "metadata": {},
   "outputs": [
    {
     "name": "stdout",
     "output_type": "stream",
     "text": [
      "35\n",
      "0\n",
      "109\n",
      "0\n"
     ]
    }
   ],
   "source": [
    "# TASK 5 : create a zero-dimensional numpy arrays:\n",
    "# 5.1 with value 35\n",
    "# 5.1 with value 109\n",
    "\n",
    "import numpy as np\n",
    "zero_dimesion_array=np.array(35)\n",
    "print(zero_dimesion_array)\n",
    "print(zero_dimesion_array.ndim)\n",
    "\n",
    "zeroDimesion=np.array(109)\n",
    "print(zeroDimesion)\n",
    "print(zeroDimesion.ndim)\n",
    "\n"
   ]
  },
  {
   "cell_type": "code",
   "execution_count": 5,
   "metadata": {},
   "outputs": [
    {
     "name": "stdout",
     "output_type": "stream",
     "text": [
      "[1 2 3 4]\n",
      "1\n",
      "[1 2 3 4 5 6 7 8]\n"
     ]
    }
   ],
   "source": [
    "# TASK 6 : create a one-dimensional numpy arrays:\n",
    "# 6.1 with 4 elements, use any values you like\n",
    "# 6.2 with 8 elements, use any values you like\n",
    "import numpy as np\n",
    "one_dimesional_array=np.array([1,2,3,4])\n",
    "print(one_dimesional_array)\n",
    "print(one_dimesional_array.ndim)\n",
    "\n",
    "myarray=np.array([1,2,3,4,5,6,7,8])\n",
    "print(myarray)"
   ]
  },
  {
   "cell_type": "code",
   "execution_count": 7,
   "metadata": {},
   "outputs": [
    {
     "name": "stdout",
     "output_type": "stream",
     "text": [
      "[[ 1  2  3  4]\n",
      " [ 5  6  7  8]\n",
      " [ 9 10 11 12]]\n"
     ]
    }
   ],
   "source": [
    "# TASK 7 : create a two-dimensional numpy arrays :\n",
    "# 7.1 with 3 x 4 elements. Use any values you like.\n",
    "# 7.2 with 2 x 5 elements. Use any values you like.\n",
    "\n",
    "# Optional, challenging task :\n",
    "# create a two-dimensional numpy array with 1 x 1 elements. Use any value you like.\n",
    "\n",
    "import numpy as np\n",
    "my_array=np.array([[1,2,3,4],[5,6,7,8],[9,10,11,12]])\n",
    "print(my_array)\n",
    "\n"
   ]
  },
  {
   "cell_type": "code",
   "execution_count": 16,
   "metadata": {},
   "outputs": [
    {
     "name": "stdout",
     "output_type": "stream",
     "text": [
      "[[[ 1  2  3  4]\n",
      "  [ 5  6  7  8]\n",
      "  [ 9 10 11 12]]\n",
      "\n",
      " [[13 14 15 16]\n",
      "  [17 18 19 20]\n",
      "  [21 22 23 24]]]\n",
      "[[[ 2  4]\n",
      "  [ 6  8]\n",
      "  [10 12]]\n",
      "\n",
      " [[ 1  3]\n",
      "  [ 7  9]\n",
      "  [11 13]]\n",
      "\n",
      " [[15 16]\n",
      "  [17 18]\n",
      "  [19 20]]\n",
      "\n",
      " [[21 22]\n",
      "  [23 24]\n",
      "  [25 26]]]\n",
      "3\n"
     ]
    }
   ],
   "source": [
    "# TASK 8 : create a three-dimensional numpy arrays :\n",
    "# 8.1 with 2 x 3 x 4 elements, use any values you like\n",
    "# 8.1 with 4 x 3 x 2 elements, use any values you like\n",
    "\n",
    "import numpy as np\n",
    "my_array=np.array([[1,2,3,4],[5,6,7,8],[9,10,11,12]])\n",
    "myarray=np.array([[13,14,15,16],[17,18,19,20],[21,22,23,24]])\n",
    "three_D_array=np.array([my_array,myarray])\n",
    "print(three_D_array)\n",
    "\n",
    "a=np.array([[2,4],[6,8],[10,12]])\n",
    "b=np.array([[1,3],[7,9],[11,13]])\n",
    "c=np.array([[15,16],[17,18],[19,20]])\n",
    "d=np.array([[21,22],[23,24],[25,26]])\n",
    "array3=np.array([a,b,c,d])\n",
    "print(array3)\n",
    "print(array3.ndim)"
   ]
  },
  {
   "cell_type": "code",
   "execution_count": 17,
   "metadata": {},
   "outputs": [
    {
     "name": "stdout",
     "output_type": "stream",
     "text": [
      "[[0 1 2 3]\n",
      " [0 1 2 3]]\n"
     ]
    }
   ],
   "source": [
    "# ASK 9 : create the following arrays by using range()-function\n",
    "# EXAMPLE :\n",
    "\n",
    "my_array=np.array([range(4),range(4)])\n",
    "print(my_array)"
   ]
  },
  {
   "cell_type": "code",
   "execution_count": 27,
   "metadata": {},
   "outputs": [
    {
     "name": "stdout",
     "output_type": "stream",
     "text": [
      "[[1 2 3 4]\n",
      " [2 4 6 8]]\n"
     ]
    }
   ],
   "source": [
    "import numpy as np\n",
    "\n",
    "myArray=np.array([range(1,5,1),range(2,10,2)])\n",
    "print(myArray)\n"
   ]
  },
  {
   "cell_type": "code",
   "execution_count": 35,
   "metadata": {},
   "outputs": [
    {
     "name": "stdout",
     "output_type": "stream",
     "text": [
      "[[0 1 2 3]\n",
      " [4 5 6 7]\n",
      " [8 7 6 5]\n",
      " [4 3 2 1]]\n",
      "Dimension =  2\n"
     ]
    }
   ],
   "source": [
    "my2Darray=np.array([range(0,4,1),range(4,8,1),range(8,4,-1),range(4,0,-1)])\n",
    "print(my2Darray)\n",
    "print(\"Dimension = \",my2Darray.ndim)"
   ]
  },
  {
   "cell_type": "code",
   "execution_count": 40,
   "metadata": {},
   "outputs": [
    {
     "name": "stdout",
     "output_type": "stream",
     "text": [
      "[[ 0  2  4  6]\n",
      " [ 8 10 12 14]\n",
      " [16 14 12 10]\n",
      " [ 8  6  4  2]]\n"
     ]
    }
   ],
   "source": [
    "my2array=np.array([range(0,8,2),range(8,16,2),range(16,8,-2),range(8,0,-2)])\n",
    "print(my2array)"
   ]
  },
  {
   "cell_type": "code",
   "execution_count": 45,
   "metadata": {},
   "outputs": [
    {
     "name": "stdout",
     "output_type": "stream",
     "text": [
      "[[[   0   10   20   30   40   50   60   70   80   90]\n",
      "  [ 100  200  300  400  500  600  700  800  900 1000]]\n",
      "\n",
      " [[1000  900  800  700  600  500  400  300  200  100]\n",
      "  [  90   80   70   60   50   40   30   20   10    0]]]\n"
     ]
    }
   ],
   "source": [
    "threeDarray=np.array([[range(0,100,10),range(100,1100,100)],[range(1000,0,-100),range(90,-10,-10)]])\n",
    "print(threeDarray)"
   ]
  },
  {
   "cell_type": "code",
   "execution_count": null,
   "metadata": {},
   "outputs": [],
   "source": []
  }
 ],
 "metadata": {
  "kernelspec": {
   "display_name": "Python 3",
   "language": "python",
   "name": "python3"
  },
  "language_info": {
   "codemirror_mode": {
    "name": "ipython",
    "version": 3
   },
   "file_extension": ".py",
   "mimetype": "text/x-python",
   "name": "python",
   "nbconvert_exporter": "python",
   "pygments_lexer": "ipython3",
   "version": "3.8.2"
  }
 },
 "nbformat": 4,
 "nbformat_minor": 4
}
