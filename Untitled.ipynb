{
 "cells": [
  {
   "cell_type": "code",
   "execution_count": null,
   "metadata": {},
   "outputs": [],
   "source": [
    "def welcome():\n",
    "    user_name=input(\"May I know your name?\")\n",
    "    print(\"Hello\",user_name)\n",
    "    ask_topic(user_name)\n",
    "def ask_topic(user_name):\n",
    "    topic=input(\"%s ,Would you like to hear about pop ,rock or classical or neo classical?\"%user_name)\n",
    "    if topic==\"pop\":\n",
    "        pop(user_name)\n",
    "    if topic==\"rock\":\n",
    "        rock(user_name)\n",
    "    if topic==\"classical\":\n",
    "        classical(user_name)\n",
    "    if topic==\"neo_classical\":\n",
    "        neo_classical(user_name)\n",
    "        \n",
    "def pop(user_name):\n",
    "    print(\"%s,Pop music is direct descendent of popular music what is considered to be popular.For instance : All about that bass,Meghan Trainor\"%user_name)\n",
    "def rock(user_name):\n",
    "    print(\"%s,Rock sounds like a good topic\"%user_name)\n",
    "def classical(user_name):\n",
    "    print(\"%s,cool\"%user_name)\n",
    "def neo_classical(user_name):\n",
    "    print(\"%s,woowl\"%user_name)\n",
    "welcome()\n",
    "\n",
    "    "
   ]
  },
  {
   "cell_type": "code",
   "execution_count": null,
   "metadata": {},
   "outputs": [],
   "source": []
  }
 ],
 "metadata": {
  "kernelspec": {
   "display_name": "Python 3",
   "language": "python",
   "name": "python3"
  },
  "language_info": {
   "codemirror_mode": {
    "name": "ipython",
    "version": 3
   },
   "file_extension": ".py",
   "mimetype": "text/x-python",
   "name": "python",
   "nbconvert_exporter": "python",
   "pygments_lexer": "ipython3",
   "version": "3.8.2"
  }
 },
 "nbformat": 4,
 "nbformat_minor": 4
}
